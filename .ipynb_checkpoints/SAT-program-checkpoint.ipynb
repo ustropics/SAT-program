{
 "cells": [
  {
   "cell_type": "code",
   "execution_count": null,
   "id": "24fea43b-9e7a-4081-b868-3785acd96218",
   "metadata": {},
   "outputs": [],
   "source": [
    "from ui import build_ui\n",
    "from run import run_program\n",
    "\n",
    "import panel as pn"
   ]
  },
  {
   "cell_type": "code",
   "execution_count": null,
   "id": "9f1c3d7a-7a82-440c-aecc-5163e253f815",
   "metadata": {},
   "outputs": [],
   "source": [
    "ui = build_ui()\n",
    "ui.show()"
   ]
  },
  {
   "cell_type": "code",
   "execution_count": null,
   "id": "cb663a22-2a11-47bb-8502-bd76e87f70d8",
   "metadata": {},
   "outputs": [],
   "source": [
    "## with ProgressBar():\n",
    "#     run_program(ui)"
   ]
  }
 ],
 "metadata": {
  "kernelspec": {
   "display_name": "Python 3 (ipykernel)",
   "language": "python",
   "name": "python3"
  },
  "language_info": {
   "codemirror_mode": {
    "name": "ipython",
    "version": 3
   },
   "file_extension": ".py",
   "mimetype": "text/x-python",
   "name": "python",
   "nbconvert_exporter": "python",
   "pygments_lexer": "ipython3",
   "version": "3.10.15"
  }
 },
 "nbformat": 4,
 "nbformat_minor": 5
}
